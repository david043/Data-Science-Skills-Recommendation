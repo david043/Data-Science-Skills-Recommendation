{
 "cells": [
  {
   "cell_type": "code",
   "execution_count": 1,
   "metadata": {
    "collapsed": true
   },
   "outputs": [],
   "source": [
    "import numpy as np\n",
    "import pandas as pd"
   ]
  },
  {
   "cell_type": "code",
   "execution_count": 2,
   "metadata": {},
   "outputs": [
    {
     "data": {
      "text/html": [
       "<div>\n",
       "<style>\n",
       "    .dataframe thead tr:only-child th {\n",
       "        text-align: right;\n",
       "    }\n",
       "\n",
       "    .dataframe thead th {\n",
       "        text-align: left;\n",
       "    }\n",
       "\n",
       "    .dataframe tbody tr th {\n",
       "        vertical-align: top;\n",
       "    }\n",
       "</style>\n",
       "<table border=\"1\" class=\"dataframe\">\n",
       "  <thead>\n",
       "    <tr style=\"text-align: right;\">\n",
       "      <th></th>\n",
       "      <th>job_title</th>\n",
       "      <th>company_name</th>\n",
       "      <th>summary</th>\n",
       "    </tr>\n",
       "  </thead>\n",
       "  <tbody>\n",
       "    <tr>\n",
       "      <th>0</th>\n",
       "      <td>Data Scientist</td>\n",
       "      <td>Apple</td>\n",
       "      <td>Imagine what you could do here. At Apple, grea...</td>\n",
       "    </tr>\n",
       "    <tr>\n",
       "      <th>1</th>\n",
       "      <td>Junior Data Scientist</td>\n",
       "      <td>The World Bank</td>\n",
       "      <td>WORLD BANK GROUP CONTEXT\\n\\nDevelopment data  ...</td>\n",
       "    </tr>\n",
       "    <tr>\n",
       "      <th>2</th>\n",
       "      <td>Data Scientist</td>\n",
       "      <td>Crossover</td>\n",
       "      <td>Are you eager to join a network of the most ta...</td>\n",
       "    </tr>\n",
       "    <tr>\n",
       "      <th>3</th>\n",
       "      <td>Junior Data Scientist- Statistician</td>\n",
       "      <td>McAfee</td>\n",
       "      <td>Job Description\\n\\nThe Test &amp; Learn Marketing ...</td>\n",
       "    </tr>\n",
       "    <tr>\n",
       "      <th>4</th>\n",
       "      <td>Data Scientist</td>\n",
       "      <td>Wiser</td>\n",
       "      <td>About us :\\nWiser is the leading provider of a...</td>\n",
       "    </tr>\n",
       "  </tbody>\n",
       "</table>\n",
       "</div>"
      ],
      "text/plain": [
       "                             job_title    company_name  \\\n",
       "0                       Data Scientist           Apple   \n",
       "1                Junior Data Scientist  The World Bank   \n",
       "2                       Data Scientist       Crossover   \n",
       "3  Junior Data Scientist- Statistician          McAfee   \n",
       "4                       Data Scientist           Wiser   \n",
       "\n",
       "                                             summary  \n",
       "0  Imagine what you could do here. At Apple, grea...  \n",
       "1  WORLD BANK GROUP CONTEXT\\n\\nDevelopment data  ...  \n",
       "2  Are you eager to join a network of the most ta...  \n",
       "3  Job Description\\n\\nThe Test & Learn Marketing ...  \n",
       "4  About us :\\nWiser is the leading provider of a...  "
      ]
     },
     "execution_count": 2,
     "metadata": {},
     "output_type": "execute_result"
    }
   ],
   "source": [
    "df_ds = pd.read_csv('./data/output_data_scientist.csv')\n",
    "df_da = pd.read_csv('./data/output-data-analyst.csv')\n",
    "df_de = pd.read_csv('./data/output-data-engineer.csv')\n",
    "df_bi = pd.read_csv('./data/output-bi.csv')\n",
    "\n",
    "df_ds.head()"
   ]
  },
  {
   "cell_type": "code",
   "execution_count": 3,
   "metadata": {
    "collapsed": true
   },
   "outputs": [],
   "source": [
    "skills_list = ['python', 'sql', 'hadoop', 'spark', 'aws', 'r', 'big data', 'machine learning', 'deep learning',\n",
    "               'sklearn', 'scikit-learn', 'HTML5' , 'javascript', 'jquery', 'excel', 'powerpoint', 'scala', 'java',\n",
    "              'c++', 'hive', 'NLP', 'CART', 'SVM', 'regression', 'statistics', 'mapreduce', 'tableau', 'PyTorch' , 'TensorFlow', \n",
    "               'Theano', 'Keras', 'algorithms', 'Linear Models', 'Neural Networks', 'Decision Trees', 'Bayesian', 'Clustering',\n",
    "               'Anomaly Detection', 'data mining']"
   ]
  },
  {
   "cell_type": "code",
   "execution_count": 4,
   "metadata": {
    "collapsed": true,
    "scrolled": true
   },
   "outputs": [],
   "source": [
    "from collections import Counter\n",
    "import re\n",
    "import matplotlib.pylab as plt\n",
    "%matplotlib inline\n",
    "\n",
    "class SkillsExtractor():\n",
    "    \n",
    "    def __init__(self, job_summaries_df, skills_list, nb_top_skills, job_title):\n",
    "        self.job_summaries_df = job_summaries_df\n",
    "        self.skills_list = skills_list\n",
    "        self.nb_top_skills = nb_top_skills\n",
    "        self.job_title = job_title\n",
    "        \n",
    "    def get_occurences(self, textfile):\n",
    "\n",
    "        skills_dict  = {x : 0 for x in self.skills_list}\n",
    "\n",
    "        cnt = Counter()\n",
    "        words = re.findall('[A-Za-z+]+', textfile.lower())\n",
    "        skills_dict = {skill.title() : 100 if Counter(words)[skill] > 0 else 0 for skill, ind in skills_dict.items()}\n",
    "        \n",
    "        # Deal with double word skill\n",
    "    \n",
    "        for skill in list(skills_dict.keys()):\n",
    "            if ' ' in skill:                \n",
    "                double_word_skill = re.findall(skill.lower(), textfile.lower())\n",
    "                skills_dict[skill.title()] = 100 if len(double_word_skill) > 0 else 0 \n",
    "        return skills_dict\n",
    "\n",
    "    def get_skills_df(self, column_name):\n",
    "\n",
    "        skills_df = pd.DataFrame(columns=[x.title() for x in self.skills_list])\n",
    "\n",
    "        for ind, job_desc in enumerate(self.job_summaries_df[column_name]):\n",
    "            if ind % 200 == 0:\n",
    "                print(\"Job description n°%i\" % ind)\n",
    "\n",
    "            skills_occurences = self.get_occurences(job_desc)\n",
    "            skills_df = skills_df.append(skills_occurences, ignore_index = True)\n",
    "\n",
    "        return skills_df\n",
    "\n",
    "    def extract_skills(self, column_name):\n",
    "\n",
    "        new_df = self.job_summaries_df.copy()\n",
    "        skills_df = self.get_skills_df(column_name)\n",
    "        new_df = new_df.merge(skills_df, right_index=True, left_index=True)\n",
    "\n",
    "        return new_df\n",
    "\n",
    "    def get_top_n_skills_with_features(self, js_with_skills_df):\n",
    "        \n",
    "        skills_dict = js_with_skills_df[js_with_skills_df.columns[3:]].sum().apply(\n",
    "            lambda x : x / len(js_with_skills_df)\n",
    "        ).to_dict()\n",
    "        \n",
    "        top = self.nb_top_skills\n",
    "\n",
    "        if top > len(skills_dict):\n",
    "            top = len(skills_dict)\n",
    "        \n",
    "        top_n_skills = dict(Counter(skills_dict).most_common(top))\n",
    "        \n",
    "        return top_n_skills\n",
    "    \n",
    "    def get_top_skills(self, ):\n",
    "        new_df_ds = self.extract_skills('summary')\n",
    "        top_n_dict = self.get_top_n_skills_with_features(new_df_ds)\n",
    "\n",
    "        print(\"The top %i skills are :\" % self.nb_top_skills)\n",
    "        for i in range(self.nb_top_skills):\n",
    "            print(\"%i : %s (%.2f%%)\" % \n",
    "                  (i+1, list(top_n_dict.keys())[i], list(top_n_dict.values())[i]))\n",
    "        \n",
    "        self.plot_top_skills(top_n_dict)\n",
    "        return top_n_dict\n",
    "    \n",
    "    def plot_top_skills(self, top_dict):\n",
    "        plt.figure(figsize = (15,8))\n",
    "        plt.bar(range(len(top_dict)), list(top_dict.values()), align='center');\n",
    "        plt.xticks(range(len(top_dict)), list(top_dict.keys()));\n",
    "        plt.xlabel(\"Skills\")\n",
    "        plt.ylabel(\"% occurence among all job summaries\")\n",
    "        plt.title('Most important skills as a ' + self.job_title)\n",
    "        "
   ]
  },
  {
   "cell_type": "code",
   "execution_count": 284,
   "metadata": {
    "scrolled": false
   },
   "outputs": [
    {
     "name": "stdout",
     "output_type": "stream",
     "text": [
      "Job description n°0\n",
      "Job description n°200\n",
      "Job description n°400\n",
      "Job description n°600\n",
      "Job description n°800\n",
      "The top 10 skills are :\n",
      "1 : Python (66.79%)\n",
      "2 : Machine Learning (62.01%)\n",
      "3 : R (61.64%)\n",
      "4 : Statistics (61.40%)\n",
      "5 : Sql (47.43%)\n",
      "6 : Algorithms (42.16%)\n",
      "7 : Big Data (29.53%)\n",
      "8 : Hadoop (27.08%)\n",
      "9 : Java (25.49%)\n",
      "10 : Spark (23.41%)\n"
     ]
    },
    {
     "data": {
      "image/png": "[encoded data removed]",
      "text/plain": [
       "<matplotlib.figure.Figure at 0x10d3d3470>"
      ]
     },
     "metadata": {},
     "output_type": "display_data"
    }
   ],
   "source": [
    "sk_ds = SkillsExtractor(df_ds, skills_list, 10, 'Data Scientist')\n",
    "do_ds = sk_ds.get_top_skills()"
   ]
  },
  {
   "cell_type": "code",
   "execution_count": 285,
   "metadata": {},
   "outputs": [
    {
     "name": "stdout",
     "output_type": "stream",
     "text": [
      "Job description n°0\n",
      "Job description n°200\n",
      "Job description n°400\n",
      "Job description n°600\n",
      "The top 10 skills are :\n",
      "1 : Sql (57.03%)\n",
      "2 : Excel (44.37%)\n",
      "3 : Statistics (37.85%)\n",
      "4 : R (28.52%)\n",
      "5 : Python (27.75%)\n",
      "6 : Tableau (22.12%)\n",
      "7 : Machine Learning (15.86%)\n",
      "8 : Big Data (13.17%)\n",
      "9 : Powerpoint (12.92%)\n",
      "10 : Algorithms (10.36%)\n"
     ]
    },
    {
     "data": {
      "image/png": "[encoded data removed]",
      "text/plain": [
       "<matplotlib.figure.Figure at 0x1180b6630>"
      ]
     },
     "metadata": {},
     "output_type": "display_data"
    }
   ],
   "source": [
    "sk_da = SkillsExtractor(df_da, skills_list, 10, 'Data Analyst')\n",
    "do_da = sk_da.get_top_skills()"
   ]
  },
  {
   "cell_type": "code",
   "execution_count": 286,
   "metadata": {},
   "outputs": [
    {
     "name": "stdout",
     "output_type": "stream",
     "text": [
      "Job description n°0\n",
      "Job description n°200\n",
      "Job description n°400\n",
      "Job description n°600\n",
      "Job description n°800\n",
      "The top 10 skills are :\n",
      "1 : Python (58.68%)\n",
      "2 : Sql (52.68%)\n",
      "3 : Java (45.44%)\n",
      "4 : Big Data (40.57%)\n",
      "5 : Hadoop (38.83%)\n",
      "6 : Spark (37.45%)\n",
      "7 : Machine Learning (27.59%)\n",
      "8 : Aws (26.72%)\n",
      "9 : Scala (20.85%)\n",
      "10 : Hive (20.22%)\n"
     ]
    },
    {
     "data": {
      "image/png": "[encoded data removed]",
      "text/plain": [
       "<matplotlib.figure.Figure at 0x1184f5240>"
      ]
     },
     "metadata": {},
     "output_type": "display_data"
    }
   ],
   "source": [
    "sk_de = SkillsExtractor(df_de, skills_list, 10, 'Data Engineer')\n",
    "do_de = sk_de.get_top_skills()"
   ]
  },
  {
   "cell_type": "code",
   "execution_count": 287,
   "metadata": {},
   "outputs": [
    {
     "name": "stdout",
     "output_type": "stream",
     "text": [
      "Job description n°0\n",
      "Job description n°200\n",
      "Job description n°400\n",
      "Job description n°600\n",
      "The top 10 skills are :\n",
      "1 : Sql (71.07%)\n",
      "2 : Tableau (38.32%)\n",
      "3 : Excel (34.52%)\n",
      "4 : Statistics (21.19%)\n",
      "5 : Python (20.81%)\n",
      "6 : R (18.78%)\n",
      "7 : Big Data (15.99%)\n",
      "8 : Hadoop (11.93%)\n",
      "9 : Powerpoint (9.52%)\n",
      "10 : Java (8.25%)\n"
     ]
    },
    {
     "data": {
      "image/png": "[encoded data removed]",
      "text/plain": [
       "<matplotlib.figure.Figure at 0x11852d080>"
      ]
     },
     "metadata": {},
     "output_type": "display_data"
    }
   ],
   "source": [
    "sk_bi = SkillsExtractor(df_bi, skills_list, 10, 'Business Analyst')\n",
    "do_bi = sk_bi.get_top_skills()"
   ]
  },
  {
   "cell_type": "code",
   "execution_count": 102,
   "metadata": {
    "scrolled": true
   },
   "outputs": [],
   "source": [
    "def get_skills_part(textfile):\n",
    "    keywords = ['qualifications', 'skills', 'requirements', 'required', 'experience']\n",
    "    signs = [':', '\\n']\n",
    "    \n",
    "    skill_part_found = False\n",
    "    \n",
    "    for keyword in keywords:\n",
    "        skills_part = textfile\n",
    "        still_keyword = True\n",
    "        \n",
    "        while still_keyword:\n",
    "\n",
    "            try:\n",
    "                keyword_index = skills_part.lower().index(keyword)\n",
    "\n",
    "                skills_part = skills_part[keyword_index:]\n",
    "                test_sign = False\n",
    "                for sign in signs:\n",
    "                    try:\n",
    "                        sign_index = skills_part.lower().index(sign)\n",
    "                        if sign_index - len(keyword) < 15:\n",
    "                            test_sign = True\n",
    "                            break\n",
    "                    except:\n",
    "                        pass\n",
    "                if test_sign == True:\n",
    "                    if len(skills_part[len(keyword):]) > 100:\n",
    "                        skill_part_found = True\n",
    "                        break\n",
    "                    else:\n",
    "                        test_sign = False\n",
    "\n",
    "                skills_part = skills_part[len(keyword):]\n",
    "            except:\n",
    "                still_keyword = False\n",
    "        if skill_part_found:\n",
    "            break\n",
    "                \n",
    "    if skill_part_found != True:\n",
    "        print(\"No qualifications part found... \\n\")\n",
    "        skills_part = textfile\n",
    "        \n",
    "    print(skills_part)"
   ]
  },
  {
   "cell_type": "code",
   "execution_count": 125,
   "metadata": {
    "scrolled": false
   },
   "outputs": [
    {
     "name": "stdout",
     "output_type": "stream",
     "text": [
      "Qualifications\n",
      "Satisfy one of: (a) PhD in Machine Learning, Statistics, Optimization or related field, with experience building production systems, or (b) MS in CS with 4+ years of experience in working with large data-driven projects, or (c) BS in CS with 6+ years of experience in the industry with at least 3 years in data science / machine learning.\n",
      "Proven track record delivering production software.\n",
      "Deep fluency in Java, C++, or another production language.\n",
      "Experience with Spark, Hadoop, MPI, or other distributed frameworks\n",
      "Solid mathematical knowledge; understanding of machine learning, statistics.\n",
      "Strong data-driven thinking.\n",
      "Description\n",
      "Develop and implement new machine learning algorithms and data science systems.\n",
      "\n",
      "Produce high quality code with excellent reliability and scalability.\n",
      "\n",
      "Explore novel architectural solutions and communicate ideas clearly.\n",
      "\n",
      "Collaborate in cross-functional teams to prototype new concepts and deliver end-to-end systems.\n",
      "\n",
      "Technical leadership experience a plus.\n",
      "\n",
      "Education\n",
      "B.S. in Computer Science with 6+ years experience\n",
      "\n",
      "M.S. in Computer Science with 4+ years experience\n",
      "\n",
      "Ph.D. in CS, industry experience a plus\n"
     ]
    }
   ],
   "source": [
    "get_skills_part(df_ds.summary[0])"
   ]
  }
 ],
 "metadata": {
  "kernelspec": {
   "display_name": "Python 3",
   "language": "python",
   "name": "python3"
  },
  "language_info": {
   "codemirror_mode": {
    "name": "ipython",
    "version": 3
   },
   "file_extension": ".py",
   "mimetype": "text/x-python",
   "name": "python",
   "nbconvert_exporter": "python",
   "pygments_lexer": "ipython3",
   "version": "3.6.2"
  }
 },
 "nbformat": 4,
 "nbformat_minor": 2
}
